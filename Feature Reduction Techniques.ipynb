{
 "cells": [
  {
   "cell_type": "code",
   "execution_count": 1,
   "id": "ec3c5eea-8f10-414f-bb06-9cfa5c56dd4c",
   "metadata": {},
   "outputs": [],
   "source": [
    "from sklearn.metrics import classification_report, confusion_matrix, accuracy_score, cohen_kappa_score\n",
    "import pandas as pd\n",
    "import numpy as np\n",
    "from sklearn.model_selection import train_test_split\n",
    "def classify_report(ytest,y_pred):\n",
    "    cm = confusion_matrix(ytest,y_pred)\n",
    "    print(\"Confusion Matrix:\\n\",cm)\n",
    "    error_rate = 1 - accuracy_score(ytest,y_pred)\n",
    "    print(\"classification report:\\n\")\n",
    "    print(classification_report(ytest,y_pred))\n",
    "    print('Accuracy:\\n',accuracy_score(ytest,y_pred))\n",
    "    print('ErrorRate:\\n',error_rate)\n",
    "    print('Cohen Kappa score:\\n',cohen_kappa_score(ytest,y_pred))\n",
    "\n",
    "\n",
    "url ='C:/Users/Ahmadi/OneDrive/Desktop/datasets/1.1 titanic.csv'\n",
    "df = pd.read_csv(url).fillna(0)\n",
    "#data cleaning , dropping column\n",
    "df = df.drop('Name',axis=1)\n",
    "df = df.drop('SexCode',axis=1)\n",
    "#create mapper\n",
    "PClass_mapper = {'1st':1,'2nd':2,'3rd':3}\n",
    "gender_mapper = {'female':1,'male':2}\n",
    "\n",
    "#replacing feature values with scale\n",
    "df['PClass'] = df['PClass'].replace(PClass_mapper)\n",
    "df['Sex'] = df['Sex'].replace(gender_mapper)\n",
    "#replacing missing values of age with mean of age\n",
    "df['Age'] = np.where(df['Age']==0,np.mean(df['Age']),df['Age'])\n",
    "#input features\n",
    "x = df.iloc[:,:3].values\n",
    "#output class\n",
    "y = df.iloc[:, 3].values\n",
    "\n",
    "#splitting the data into training and test\n",
    "xtrain, xtest, ytrain, ytest = train_test_split(x,y,test_size=0.2,random_state=0)\n"
   ]
  },
  {
   "cell_type": "code",
   "execution_count": 2,
   "id": "f7554325-64f7-4351-b10b-753bef32fcce",
   "metadata": {},
   "outputs": [
    {
     "name": "stdout",
     "output_type": "stream",
     "text": [
      "original features: 3\n",
      "reduced number of features: 1\n",
      "variance ratio: [1.]\n"
     ]
    }
   ],
   "source": [
    "#using LDA\n",
    "from sklearn.discriminant_analysis import LinearDiscriminantAnalysis as LDA\n",
    "\n",
    "lda = LDA(n_components=None)\n",
    "xtrain = lda.fit_transform(xtrain,ytrain)\n",
    "xtest = lda.transform(xtest)\n",
    "print('original features:',x.shape[1])\n",
    "print('reduced number of features:',xtrain.shape[1])\n",
    "print('variance ratio:',lda.explained_variance_ratio_)"
   ]
  },
  {
   "cell_type": "code",
   "execution_count": 3,
   "id": "361c1f03-cc37-4441-ab6f-d93e8de7a124",
   "metadata": {},
   "outputs": [
    {
     "name": "stdout",
     "output_type": "stream",
     "text": [
      "Confusion Matrix:\n",
      " [[158  13]\n",
      " [ 36  56]]\n",
      "classification report:\n",
      "\n",
      "              precision    recall  f1-score   support\n",
      "\n",
      "           0       0.81      0.92      0.87       171\n",
      "           1       0.81      0.61      0.70        92\n",
      "\n",
      "    accuracy                           0.81       263\n",
      "   macro avg       0.81      0.77      0.78       263\n",
      "weighted avg       0.81      0.81      0.81       263\n",
      "\n",
      "Accuracy:\n",
      " 0.8136882129277566\n",
      "ErrorRate:\n",
      " 0.18631178707224338\n",
      "Cohen Kappa score:\n",
      " 0.5653185819813135\n"
     ]
    }
   ],
   "source": [
    "#prediction with LDA\n",
    "from sklearn.neighbors import KNeighborsClassifier\n",
    "# knn model creation \n",
    "knn = KNeighborsClassifier(n_neighbors=10)\n",
    "\n",
    "#fit model\n",
    "knn.fit(xtrain,ytrain)\n",
    "#perform predictions\n",
    "y_pred_knn = knn.predict(xtest)\n",
    "\n",
    "classify_report(ytest,y_pred_knn)"
   ]
  },
  {
   "cell_type": "code",
   "execution_count": 4,
   "id": "90b64fee-5aaf-40d6-b494-37f8e7222b9f",
   "metadata": {},
   "outputs": [
    {
     "name": "stdout",
     "output_type": "stream",
     "text": [
      "original features: 3\n",
      "original test features: 3\n",
      "reduced number of features: 1\n",
      "reduced number of test features: 1\n"
     ]
    }
   ],
   "source": [
    "# using PCA\n",
    "from sklearn.decomposition import PCA\n",
    "#splitting the data into training and test\n",
    "xtrain, xtest, ytrain, ytest = train_test_split(x,y,test_size=0.2,random_state=0)\n",
    "\n",
    "pca = PCA(n_components=0.99)\n",
    "print('original features:',xtrain.shape[1])#(variance = 0.99,0.95) or features = 3)\n",
    "print('original test features:',xtest.shape[1])\n",
    "xtrain = pca.fit_transform(xtrain)\n",
    "xtest = pca.transform(xtest)\n",
    "print('reduced number of features:',xtrain.shape[1])\n",
    "print('reduced number of test features:',xtest.shape[1])"
   ]
  },
  {
   "cell_type": "code",
   "execution_count": 5,
   "id": "2ea137f1-bcab-4a8a-9865-e29512c26eca",
   "metadata": {},
   "outputs": [
    {
     "name": "stdout",
     "output_type": "stream",
     "text": [
      "Confusion Matrix:\n",
      " [[153  18]\n",
      " [ 69  23]]\n",
      "classification report:\n",
      "\n",
      "              precision    recall  f1-score   support\n",
      "\n",
      "           0       0.69      0.89      0.78       171\n",
      "           1       0.56      0.25      0.35        92\n",
      "\n",
      "    accuracy                           0.67       263\n",
      "   macro avg       0.63      0.57      0.56       263\n",
      "weighted avg       0.64      0.67      0.63       263\n",
      "\n",
      "Accuracy:\n",
      " 0.6692015209125475\n",
      "ErrorRate:\n",
      " 0.3307984790874525\n",
      "Cohen Kappa score:\n",
      " 0.165992345544013\n"
     ]
    }
   ],
   "source": [
    "#predicting with PCA\n",
    "from sklearn.neighbors import KNeighborsClassifier\n",
    "# KNN model creation \n",
    "knn = KNeighborsClassifier(n_neighbors=10)\n",
    "\n",
    "#fit model\n",
    "knn.fit(xtrain,ytrain)\n",
    "#perform predictions\n",
    "y_pred_knn = knn.predict(xtest)\n",
    "\n",
    "classify_report(ytest,y_pred_knn)"
   ]
  },
  {
   "cell_type": "code",
   "execution_count": 6,
   "id": "0236c92a-3ffc-4730-b841-3421995b18a7",
   "metadata": {},
   "outputs": [
    {
     "name": "stdout",
     "output_type": "stream",
     "text": [
      "original number of features: 3\n",
      "reduced number of features: 2\n",
      "reduced number of test features: 2\n"
     ]
    },
    {
     "name": "stderr",
     "output_type": "stream",
     "text": [
      "C:\\Users\\Ahmadi\\anaconda3\\lib\\site-packages\\sklearn\\decomposition\\_nmf.py:1710: ConvergenceWarning: Maximum number of iterations 200 reached. Increase it to improve convergence.\n",
      "  warnings.warn(\n"
     ]
    }
   ],
   "source": [
    "# using NMF\n",
    "from sklearn.decomposition import NMF\n",
    "#splitting data\n",
    "xtrain, xtest, ytrain, ytest = train_test_split(x,y,test_size=0.2,random_state=0)\n",
    "\n",
    "print('original number of features:',xtrain.shape[1])\n",
    "nmf = NMF(n_components=2,init='random',random_state=0)\n",
    "xtrain = nmf.fit_transform(xtrain)\n",
    "xtest = nmf.transform(xtest)\n",
    "print('reduced number of features:',xtrain.shape[1])\n",
    "print('reduced number of test features:',xtest.shape[1])"
   ]
  },
  {
   "cell_type": "code",
   "execution_count": 7,
   "id": "491be3c1-4d61-45c1-9170-ab17932a1b1d",
   "metadata": {},
   "outputs": [
    {
     "name": "stdout",
     "output_type": "stream",
     "text": [
      "Confusion Matrix:\n",
      " [[135  36]\n",
      " [ 26  66]]\n",
      "classification report:\n",
      "\n",
      "              precision    recall  f1-score   support\n",
      "\n",
      "           0       0.84      0.79      0.81       171\n",
      "           1       0.65      0.72      0.68        92\n",
      "\n",
      "    accuracy                           0.76       263\n",
      "   macro avg       0.74      0.75      0.75       263\n",
      "weighted avg       0.77      0.76      0.77       263\n",
      "\n",
      "Accuracy:\n",
      " 0.7642585551330798\n",
      "ErrorRate:\n",
      " 0.23574144486692017\n",
      "Cohen Kappa score:\n",
      " 0.494450300737893\n"
     ]
    }
   ],
   "source": [
    "#predicting with NMF\n",
    "from sklearn.neighbors import KNeighborsClassifier\n",
    "# KNN model creation \n",
    "knn = KNeighborsClassifier(n_neighbors=10)\n",
    "\n",
    "#fit model\n",
    "knn.fit(xtrain,ytrain)\n",
    "#perform predictions\n",
    "y_pred_knn = knn.predict(xtest)\n",
    "\n",
    "classify_report(ytest,y_pred_knn)"
   ]
  },
  {
   "cell_type": "code",
   "execution_count": null,
   "id": "10c7c9df-6cee-4090-bf51-6b09dba2f4ec",
   "metadata": {},
   "outputs": [],
   "source": []
  }
 ],
 "metadata": {
  "kernelspec": {
   "display_name": "Python 3 (ipykernel)",
   "language": "python",
   "name": "python3"
  },
  "language_info": {
   "codemirror_mode": {
    "name": "ipython",
    "version": 3
   },
   "file_extension": ".py",
   "mimetype": "text/x-python",
   "name": "python",
   "nbconvert_exporter": "python",
   "pygments_lexer": "ipython3",
   "version": "3.9.12"
  }
 },
 "nbformat": 4,
 "nbformat_minor": 5
}
